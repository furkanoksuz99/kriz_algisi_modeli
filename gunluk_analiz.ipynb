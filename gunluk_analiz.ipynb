import os
from datetime import datetime
import pandas as pd
import subprocess


subprocess.run("jupyter nbconvert --to notebook --execute data/twitter/get_tweet.ipynb --inplace", shell=True)
subprocess.run("jupyter nbconvert --to notebook --execute data/twitter/clean_data.ipynb --inplace", shell=True)

subprocess.run("jupyter nbconvert --to notebook --execute data/news/getnews.ipynb --inplace", shell=True)
subprocess.run("jupyter nbconvert --to notebook --execute data/news/news_analysis.ipynb --inplace", shell=True)

subprocess.run("jupyter nbconvert --to notebook --execute data/ekonomi/geteconomi.ipynb --inplace", shell=True)

def kriz_yorumu(puan):
    if puan is None:
        return "Yeterli veri bulunamadı."
    elif puan < 0.8:
        return "Halkta ciddi bir kriz algısı var."
    elif puan < 1.3:
        return "Kriz algısı nötr seviyede."
    else:
        return "Halkta kriz algısı düşük, pozitif bir hava hakim."

bugun = datetime.now().strftime("%Y-%m-%d")

tweet_df = pd.read_csv("data/twitter/tweet_yorum.csv")
haber_df = pd.read_csv("data/news/haber_yorum.csv")
ekonomi_df = pd.read_csv("data/ekonomi/piyasa_analizi.csv")

print(tweet_df)
print(haber_df)
print(ekonomi_df)

tweet_filtre = tweet_df[tweet_df['tarih'] == bugun]['ortalama_duygu_puani']
tweet_puan = float(tweet_filtre.values[0]) if not tweet_filtre.empty else None

haber_puan = haber_df[haber_df['tarih'] == bugun]['ortalama_duygu_puani'].mean()

ekonomi_filtre = ekonomi_df[ekonomi_df['Tarih'] == bugun]
ekonomi_puan = ekonomi_filtre['Ortalama_Değişim_Puani'].mean() if not ekonomi_filtre.empty else None

bilesenler = [puan for puan in [tweet_puan, haber_puan, ekonomi_puan] if puan is not None]
kriz_puani = sum(bilesenler) / len(bilesenler) if bilesenler else None
yorum = kriz_yorumu(kriz_puani)

kriz_df = pd.DataFrame({
    "tarih": [bugun],
    "kriz_puani": [kriz_puani],
    "yorum": [yorum]
})

os.makedirs("data/kriz", exist_ok=True)
dosya_yolu = "data/kriz/kriz_algisi.csv"

if os.path.exists(dosya_yolu):
    eski = pd.read_csv(dosya_yolu)
    yeni = pd.concat([eski, kriz_df]).drop_duplicates(subset='tarih', keep='last')
else:
    yeni = kriz_df

yeni.to_csv(dosya_yolu, index=False, encoding="utf-8-sig")

print("✅ Günlük kriz algısı analizi tamamlandı ve kaydedildi.")
