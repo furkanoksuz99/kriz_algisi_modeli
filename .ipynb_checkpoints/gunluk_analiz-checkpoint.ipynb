{
 "cells": [
  {
   "cell_type": "code",
   "execution_count": 28,
   "id": "b0ab9a76-15e6-4cab-8a52-86fb3eead580",
   "metadata": {},
   "outputs": [
    {
     "name": "stdout",
     "output_type": "stream",
     "text": [
      "✅ Günlük kriz algısı analizi tamamlandı ve kaydedildi.\n"
     ]
    }
   ],
   "source": [
    "import os\n",
    "from datetime import datetime\n",
    "import pandas as pd\n",
    "import subprocess\n",
    "\n",
    "\n",
    "subprocess.run([\"python\", \"gettweet.py\"])\n",
    "subprocess.run([\"python\", \"cleandata.py\"])\n",
    "\n",
    "\n",
    "subprocess.run([\"python\", \"getnews.py\"])\n",
    "subprocess.run([\"python\", \"newsanalyse.py\"])\n",
    "\n",
    "\n",
    "subprocess.run([\"python\", \"geteconomi.py\"])\n",
    "\n",
    "\n",
    "def kriz_yorumu(puan):\n",
    "    if puan is None:\n",
    "        return \"Yeterli veri bulunamadı.\"\n",
    "    elif puan < 0.8:\n",
    "        return \"Halkta ciddi bir kriz algısı var.\"\n",
    "    elif puan < 1.3:\n",
    "        return \"Kriz algısı nötr seviyede.\"\n",
    "    else:\n",
    "        return \"Halkta kriz algısı düşük, pozitif bir hava hakim.\"\n",
    "\n",
    "bugun = datetime.now().strftime(\"%Y-%m-%d\")\n",
    "\n",
    "\n",
    "tweet_df = pd.read_csv(\"data/twitter/tweet_yorum.csv\")\n",
    "haber_df = pd.read_csv(\"data/news/haber_yorum.csv\")\n",
    "ekonomi_df = pd.read_csv(\"data/ekonomi/piyasa_analizi.csv\")\n",
    "\n",
    "tweet_filtre = tweet_df[tweet_df['tarih'] == bugun]['ortalama_duygu_puani']\n",
    "tweet_puan = float(tweet_filtre.values[0]) if not tweet_filtre.empty else None\n",
    "\n",
    "haber_puan = haber_df[haber_df['tarih'] == bugun]['ortalama_duygu_puani'].mean()\n",
    "\n",
    "ekonomi_filtre = ekonomi_df[ekonomi_df['Tarih'] == bugun]\n",
    "ekonomi_puan = ekonomi_filtre['Ortalama_Değişim_Puani'].mean() if not ekonomi_filtre.empty else None\n",
    "\n",
    "\n",
    "bilesenler = [puan for puan in [tweet_puan, haber_puan, ekonomi_puan] if puan is not None]\n",
    "kriz_puani = sum(bilesenler) / len(bilesenler) if bilesenler else None\n",
    "yorum = kriz_yorumu(kriz_puani)\n",
    "\n",
    "\n",
    "kriz_df = pd.DataFrame({\n",
    "    \"tarih\": [bugun],\n",
    "    \"kriz_puani\": [kriz_puani],\n",
    "    \"yorum\": [yorum]\n",
    "})\n",
    "\n",
    "os.makedirs(\"data/kriz\", exist_ok=True)\n",
    "dosya_yolu = \"data/kriz/kriz_algisi.csv\"\n",
    "\n",
    "\n",
    "if os.path.exists(dosya_yolu):\n",
    "    eski = pd.read_csv(dosya_yolu)\n",
    "    yeni = pd.concat([eski, kriz_df]).drop_duplicates(subset='tarih', keep='last')\n",
    "else:\n",
    "    yeni = kriz_df\n",
    "\n",
    "yeni.to_csv(dosya_yolu, index=False, encoding=\"utf-8-sig\")\n",
    "\n",
    "print(\"✅ Günlük kriz algısı analizi tamamlandı ve kaydedildi.\")\n"
   ]
  },
  {
   "cell_type": "code",
   "execution_count": 29,
   "id": "a45ac7fd-7db3-4215-9d6c-b7ef8fbf71b5",
   "metadata": {},
   "outputs": [
    {
     "name": "stdout",
     "output_type": "stream",
     "text": [
      "C:\\Users\\furka\\kriz_algisi_modeli\n"
     ]
    }
   ],
   "source": [
    "import os\n",
    "print(os.getcwd())\n"
   ]
  },
  {
   "cell_type": "code",
   "execution_count": null,
   "id": "6c9afb94-a786-4e63-9768-9221a61769d4",
   "metadata": {},
   "outputs": [],
   "source": []
  }
 ],
 "metadata": {
  "kernelspec": {
   "display_name": "Python 3 (ipykernel)",
   "language": "python",
   "name": "python3"
  },
  "language_info": {
   "codemirror_mode": {
    "name": "ipython",
    "version": 3
   },
   "file_extension": ".py",
   "mimetype": "text/x-python",
   "name": "python",
   "nbconvert_exporter": "python",
   "pygments_lexer": "ipython3",
   "version": "3.11.9"
  }
 },
 "nbformat": 4,
 "nbformat_minor": 5
}
